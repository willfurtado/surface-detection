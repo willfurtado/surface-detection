{
 "cells": [
  {
   "cell_type": "markdown",
   "id": "638ccf82",
   "metadata": {},
   "source": [
    "## Surface Detection\n",
    "\n",
    "The following notebook will walk through example usage of the `surface_detection` package."
   ]
  },
  {
   "cell_type": "code",
   "execution_count": null,
   "id": "480e357d",
   "metadata": {},
   "outputs": [],
   "source": []
  }
 ],
 "metadata": {
  "kernelspec": {
   "display_name": "Python 3 (ipykernel)",
   "language": "python",
   "name": "python3"
  },
  "language_info": {
   "codemirror_mode": {
    "name": "ipython",
    "version": 3
   },
   "file_extension": ".py",
   "mimetype": "text/x-python",
   "name": "python",
   "nbconvert_exporter": "python",
   "pygments_lexer": "ipython3",
   "version": "3.9.11"
  }
 },
 "nbformat": 4,
 "nbformat_minor": 5
}
